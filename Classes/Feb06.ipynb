{
 "cells": [
  {
   "cell_type": "code",
   "execution_count": 41,
   "metadata": {},
   "outputs": [],
   "source": [
    "import pandas as pd\n",
    "from itertools import combinations"
   ]
  },
  {
   "cell_type": "code",
   "execution_count": 42,
   "metadata": {},
   "outputs": [],
   "source": [
    "data = {\n",
    "\n",
    "    'TransactionID': [1, 2, 3, 4, 5]\n",
    "\n",
    "    ,'ItemsPurchased': ['Bread,Butter,Milk','Bread,Diaper,Beer,Milk','Milk,Diaper,Beer','Bread,Butter','Bread,Butter,Diaper,Milk']\n",
    "\n",
    "}"
   ]
  },
  {
   "cell_type": "code",
   "execution_count": 43,
   "metadata": {},
   "outputs": [],
   "source": [
    "df = pd.DataFrame(data)"
   ]
  },
  {
   "cell_type": "code",
   "execution_count": 44,
   "metadata": {},
   "outputs": [
    {
     "data": {
      "text/html": [
       "<div>\n",
       "<style scoped>\n",
       "    .dataframe tbody tr th:only-of-type {\n",
       "        vertical-align: middle;\n",
       "    }\n",
       "\n",
       "    .dataframe tbody tr th {\n",
       "        vertical-align: top;\n",
       "    }\n",
       "\n",
       "    .dataframe thead th {\n",
       "        text-align: right;\n",
       "    }\n",
       "</style>\n",
       "<table border=\"1\" class=\"dataframe\">\n",
       "  <thead>\n",
       "    <tr style=\"text-align: right;\">\n",
       "      <th></th>\n",
       "      <th>TransactionID</th>\n",
       "      <th>ItemsPurchased</th>\n",
       "    </tr>\n",
       "  </thead>\n",
       "  <tbody>\n",
       "    <tr>\n",
       "      <th>0</th>\n",
       "      <td>1</td>\n",
       "      <td>Bread,Butter,Milk</td>\n",
       "    </tr>\n",
       "    <tr>\n",
       "      <th>1</th>\n",
       "      <td>2</td>\n",
       "      <td>Bread,Diaper,Beer,Milk</td>\n",
       "    </tr>\n",
       "    <tr>\n",
       "      <th>2</th>\n",
       "      <td>3</td>\n",
       "      <td>Milk,Diaper,Beer</td>\n",
       "    </tr>\n",
       "    <tr>\n",
       "      <th>3</th>\n",
       "      <td>4</td>\n",
       "      <td>Bread,Butter</td>\n",
       "    </tr>\n",
       "    <tr>\n",
       "      <th>4</th>\n",
       "      <td>5</td>\n",
       "      <td>Bread,Butter,Diaper,Milk</td>\n",
       "    </tr>\n",
       "  </tbody>\n",
       "</table>\n",
       "</div>"
      ],
      "text/plain": [
       "   TransactionID            ItemsPurchased\n",
       "0              1         Bread,Butter,Milk\n",
       "1              2    Bread,Diaper,Beer,Milk\n",
       "2              3          Milk,Diaper,Beer\n",
       "3              4              Bread,Butter\n",
       "4              5  Bread,Butter,Diaper,Milk"
      ]
     },
     "execution_count": 44,
     "metadata": {},
     "output_type": "execute_result"
    }
   ],
   "source": [
    "df.head()"
   ]
  },
  {
   "cell_type": "code",
   "execution_count": 45,
   "metadata": {},
   "outputs": [],
   "source": [
    "all_words_rows = df['ItemsPurchased'].tolist()"
   ]
  },
  {
   "cell_type": "code",
   "execution_count": 46,
   "metadata": {},
   "outputs": [],
   "source": [
    "all_word = set()\n",
    "for transaction in all_words_rows:\n",
    "    all_word.update(transaction.split(','))"
   ]
  },
  {
   "cell_type": "code",
   "execution_count": 47,
   "metadata": {},
   "outputs": [],
   "source": [
    "df['ItemsPurchased'] = df['ItemsPurchased'].apply(lambda x : x.split(','))"
   ]
  },
  {
   "cell_type": "code",
   "execution_count": 48,
   "metadata": {},
   "outputs": [
    {
     "name": "stdout",
     "output_type": "stream",
     "text": [
      "[['Bread', 'Butter', 'Milk'], ['Bread', 'Diaper', 'Beer', 'Milk'], ['Milk', 'Diaper', 'Beer'], ['Bread', 'Butter'], ['Bread', 'Butter', 'Diaper', 'Milk']]\n"
     ]
    }
   ],
   "source": [
    "all_words_rows = df['ItemsPurchased'].tolist()\n",
    "print(all_words_rows)"
   ]
  },
  {
   "cell_type": "code",
   "execution_count": 49,
   "metadata": {},
   "outputs": [],
   "source": [
    "all_words = set()\n"
   ]
  },
  {
   "cell_type": "code",
   "execution_count": 51,
   "metadata": {},
   "outputs": [],
   "source": [
    "for i in all_words_rows:\n",
    "    for word in i:\n",
    "        all_words.add(word)\n",
    "\n"
   ]
  },
  {
   "cell_type": "code",
   "execution_count": 52,
   "metadata": {},
   "outputs": [
    {
     "data": {
      "text/plain": [
       "{'Beer', 'Bread', 'Butter', 'Diaper', 'Milk'}"
      ]
     },
     "execution_count": 52,
     "metadata": {},
     "output_type": "execute_result"
    }
   ],
   "source": [
    "all_words"
   ]
  },
  {
   "cell_type": "code",
   "execution_count": 53,
   "metadata": {},
   "outputs": [],
   "source": [
    "def generate_itemsets(all_words):\n",
    "\n",
    "    all_itemsets = set()\n",
    "    for x in  range(1, len(all_words)+1):\n",
    "        all_itemsets.update(combinations(all_words, x))\n",
    "    return(all_itemsets)"
   ]
  },
  {
   "cell_type": "code",
   "execution_count": 55,
   "metadata": {},
   "outputs": [],
   "source": [
    "all_itemset = generate_itemsets(all_words)"
   ]
  },
  {
   "cell_type": "code",
   "execution_count": 58,
   "metadata": {},
   "outputs": [],
   "source": [
    "example_itemset = ['Beer', 'Bread', 'Butter', 'Diaper']"
   ]
  },
  {
   "cell_type": "code",
   "execution_count": 85,
   "metadata": {},
   "outputs": [],
   "source": [
    "def generate_rules(item_set):\n",
    "    rules = []\n",
    "\n",
    "    itemset_length = len(item_set)\n",
    "    set_itemset = set(item_set)\n",
    "\n",
    "    for n in range(1, itemset_length):\n",
    "        for combo in combinations(set_itemset, n):\n",
    "            antecedent = set(combo)\n",
    "            consequent = set_itemset - antecedent\n",
    "            rules.append((antecedent, consequent, set_itemset))\n",
    "    return rules"
   ]
  },
  {
   "cell_type": "code",
   "execution_count": 61,
   "metadata": {},
   "outputs": [],
   "source": [
    "get_itemsets = generate_itemsets(all_words)"
   ]
  },
  {
   "cell_type": "code",
   "execution_count": 77,
   "metadata": {},
   "outputs": [],
   "source": [
    "binary_df = pd.DataFrame(columns=list(all_words))"
   ]
  },
  {
   "cell_type": "code",
   "execution_count": 78,
   "metadata": {},
   "outputs": [
    {
     "data": {
      "text/html": [
       "<div>\n",
       "<style scoped>\n",
       "    .dataframe tbody tr th:only-of-type {\n",
       "        vertical-align: middle;\n",
       "    }\n",
       "\n",
       "    .dataframe tbody tr th {\n",
       "        vertical-align: top;\n",
       "    }\n",
       "\n",
       "    .dataframe thead th {\n",
       "        text-align: right;\n",
       "    }\n",
       "</style>\n",
       "<table border=\"1\" class=\"dataframe\">\n",
       "  <thead>\n",
       "    <tr style=\"text-align: right;\">\n",
       "      <th></th>\n",
       "      <th>Butter</th>\n",
       "      <th>Diaper</th>\n",
       "      <th>Bread</th>\n",
       "      <th>Milk</th>\n",
       "      <th>Beer</th>\n",
       "    </tr>\n",
       "  </thead>\n",
       "  <tbody>\n",
       "  </tbody>\n",
       "</table>\n",
       "</div>"
      ],
      "text/plain": [
       "Empty DataFrame\n",
       "Columns: [Butter, Diaper, Bread, Milk, Beer]\n",
       "Index: []"
      ]
     },
     "execution_count": 78,
     "metadata": {},
     "output_type": "execute_result"
    }
   ],
   "source": [
    "binary_df.head()"
   ]
  },
  {
   "cell_type": "code",
   "execution_count": 79,
   "metadata": {},
   "outputs": [],
   "source": [
    "for idx, row in enumerate(all_words_rows):\n",
    "    for word in row:\n",
    "        binary_df.loc[idx, word] = 1"
   ]
  },
  {
   "cell_type": "code",
   "execution_count": 80,
   "metadata": {},
   "outputs": [
    {
     "data": {
      "text/html": [
       "<div>\n",
       "<style scoped>\n",
       "    .dataframe tbody tr th:only-of-type {\n",
       "        vertical-align: middle;\n",
       "    }\n",
       "\n",
       "    .dataframe tbody tr th {\n",
       "        vertical-align: top;\n",
       "    }\n",
       "\n",
       "    .dataframe thead th {\n",
       "        text-align: right;\n",
       "    }\n",
       "</style>\n",
       "<table border=\"1\" class=\"dataframe\">\n",
       "  <thead>\n",
       "    <tr style=\"text-align: right;\">\n",
       "      <th></th>\n",
       "      <th>Butter</th>\n",
       "      <th>Diaper</th>\n",
       "      <th>Bread</th>\n",
       "      <th>Milk</th>\n",
       "      <th>Beer</th>\n",
       "    </tr>\n",
       "  </thead>\n",
       "  <tbody>\n",
       "    <tr>\n",
       "      <th>0</th>\n",
       "      <td>1</td>\n",
       "      <td>NaN</td>\n",
       "      <td>1</td>\n",
       "      <td>1</td>\n",
       "      <td>NaN</td>\n",
       "    </tr>\n",
       "    <tr>\n",
       "      <th>1</th>\n",
       "      <td>NaN</td>\n",
       "      <td>1</td>\n",
       "      <td>1</td>\n",
       "      <td>1</td>\n",
       "      <td>1</td>\n",
       "    </tr>\n",
       "    <tr>\n",
       "      <th>2</th>\n",
       "      <td>NaN</td>\n",
       "      <td>1</td>\n",
       "      <td>NaN</td>\n",
       "      <td>1</td>\n",
       "      <td>1</td>\n",
       "    </tr>\n",
       "    <tr>\n",
       "      <th>3</th>\n",
       "      <td>1</td>\n",
       "      <td>NaN</td>\n",
       "      <td>1</td>\n",
       "      <td>NaN</td>\n",
       "      <td>NaN</td>\n",
       "    </tr>\n",
       "    <tr>\n",
       "      <th>4</th>\n",
       "      <td>1</td>\n",
       "      <td>1</td>\n",
       "      <td>1</td>\n",
       "      <td>1</td>\n",
       "      <td>NaN</td>\n",
       "    </tr>\n",
       "  </tbody>\n",
       "</table>\n",
       "</div>"
      ],
      "text/plain": [
       "  Butter Diaper Bread Milk Beer\n",
       "0      1    NaN     1    1  NaN\n",
       "1    NaN      1     1    1    1\n",
       "2    NaN      1   NaN    1    1\n",
       "3      1    NaN     1  NaN  NaN\n",
       "4      1      1     1    1  NaN"
      ]
     },
     "execution_count": 80,
     "metadata": {},
     "output_type": "execute_result"
    }
   ],
   "source": [
    "binary_df.head()"
   ]
  },
  {
   "cell_type": "code",
   "execution_count": 82,
   "metadata": {},
   "outputs": [],
   "source": [
    "binary_df = binary_df.map(lambda x : True if x == 1 else False)"
   ]
  },
  {
   "cell_type": "code",
   "execution_count": 83,
   "metadata": {},
   "outputs": [
    {
     "data": {
      "text/plain": [
       "Butter    bool\n",
       "Diaper    bool\n",
       "Bread     bool\n",
       "Milk      bool\n",
       "Beer      bool\n",
       "dtype: object"
      ]
     },
     "execution_count": 83,
     "metadata": {},
     "output_type": "execute_result"
    }
   ],
   "source": [
    "binary_df.dtypes"
   ]
  },
  {
   "cell_type": "code",
   "execution_count": 86,
   "metadata": {},
   "outputs": [],
   "source": [
    "all_rules = []\n",
    "\n",
    "for itemset in all_itemset:\n",
    "    all_rules.extend(generate_rules(itemset))"
   ]
  },
  {
   "cell_type": "code",
   "execution_count": 90,
   "metadata": {},
   "outputs": [],
   "source": [
    "support_dict = {}\n",
    "\n",
    "for row in all_itemset:\n",
    "    total_cols = len(row)\n",
    "    for idx in range(len(binary_df)):\n",
    "        if (binary_df.loc[idx, list(row)]).sum() == total_cols:\n",
    "            support_dict[row] = support_dict.get(row, 0) +1\n"
   ]
  },
  {
   "cell_type": "code",
   "execution_count": 92,
   "metadata": {},
   "outputs": [],
   "source": [
    "support_list = [(set(k), v / len(binary_df)) for k, v in support_dict.items()]"
   ]
  },
  {
   "cell_type": "code",
   "execution_count": 93,
   "metadata": {},
   "outputs": [
    {
     "data": {
      "text/plain": [
       "[({'Bread', 'Diaper', 'Milk'}, 0.4),\n",
       " ({'Beer', 'Diaper', 'Milk'}, 0.4),\n",
       " ({'Bread', 'Butter', 'Diaper', 'Milk'}, 0.2),\n",
       " ({'Beer', 'Bread', 'Diaper', 'Milk'}, 0.2),\n",
       " ({'Bread', 'Butter'}, 0.6),\n",
       " ({'Beer', 'Diaper'}, 0.4),\n",
       " ({'Bread'}, 0.8),\n",
       " ({'Butter', 'Milk'}, 0.4),\n",
       " ({'Beer', 'Bread'}, 0.2),\n",
       " ({'Milk'}, 0.8),\n",
       " ({'Beer', 'Bread', 'Diaper'}, 0.2),\n",
       " ({'Butter', 'Diaper'}, 0.2),\n",
       " ({'Bread', 'Butter', 'Diaper'}, 0.2),\n",
       " ({'Butter', 'Diaper', 'Milk'}, 0.2),\n",
       " ({'Beer', 'Bread', 'Milk'}, 0.2),\n",
       " ({'Butter'}, 0.6),\n",
       " ({'Bread', 'Butter', 'Milk'}, 0.4),\n",
       " ({'Beer'}, 0.4),\n",
       " ({'Bread', 'Diaper'}, 0.4),\n",
       " ({'Diaper', 'Milk'}, 0.6),\n",
       " ({'Diaper'}, 0.6),\n",
       " ({'Beer', 'Milk'}, 0.4),\n",
       " ({'Bread', 'Milk'}, 0.6)]"
      ]
     },
     "execution_count": 93,
     "metadata": {},
     "output_type": "execute_result"
    }
   ],
   "source": [
    "support_list"
   ]
  },
  {
   "cell_type": "code",
   "execution_count": null,
   "metadata": {},
   "outputs": [],
   "source": [
    "col = ['antecedent', 'consequent', 'itemset']\n",
    "rules_df = pd.DataFrame(all_rules, columns=col)\n"
   ]
  },
  {
   "cell_type": "code",
   "execution_count": 98,
   "metadata": {},
   "outputs": [
    {
     "data": {
      "text/html": [
       "<div>\n",
       "<style scoped>\n",
       "    .dataframe tbody tr th:only-of-type {\n",
       "        vertical-align: middle;\n",
       "    }\n",
       "\n",
       "    .dataframe tbody tr th {\n",
       "        vertical-align: top;\n",
       "    }\n",
       "\n",
       "    .dataframe thead th {\n",
       "        text-align: right;\n",
       "    }\n",
       "</style>\n",
       "<table border=\"1\" class=\"dataframe\">\n",
       "  <thead>\n",
       "    <tr style=\"text-align: right;\">\n",
       "      <th></th>\n",
       "      <th>antecedent</th>\n",
       "      <th>consequent</th>\n",
       "      <th>itemset</th>\n",
       "    </tr>\n",
       "  </thead>\n",
       "  <tbody>\n",
       "    <tr>\n",
       "      <th>0</th>\n",
       "      <td>{Butter}</td>\n",
       "      <td>{Bread, Milk, Beer}</td>\n",
       "      <td>{Butter, Bread, Milk, Beer}</td>\n",
       "    </tr>\n",
       "    <tr>\n",
       "      <th>1</th>\n",
       "      <td>{Bread}</td>\n",
       "      <td>{Butter, Milk, Beer}</td>\n",
       "      <td>{Butter, Bread, Milk, Beer}</td>\n",
       "    </tr>\n",
       "    <tr>\n",
       "      <th>2</th>\n",
       "      <td>{Milk}</td>\n",
       "      <td>{Butter, Bread, Beer}</td>\n",
       "      <td>{Butter, Bread, Milk, Beer}</td>\n",
       "    </tr>\n",
       "    <tr>\n",
       "      <th>3</th>\n",
       "      <td>{Beer}</td>\n",
       "      <td>{Butter, Bread, Milk}</td>\n",
       "      <td>{Butter, Bread, Milk, Beer}</td>\n",
       "    </tr>\n",
       "    <tr>\n",
       "      <th>4</th>\n",
       "      <td>{Butter, Bread}</td>\n",
       "      <td>{Milk, Beer}</td>\n",
       "      <td>{Butter, Bread, Milk, Beer}</td>\n",
       "    </tr>\n",
       "    <tr>\n",
       "      <th>...</th>\n",
       "      <td>...</td>\n",
       "      <td>...</td>\n",
       "      <td>...</td>\n",
       "    </tr>\n",
       "    <tr>\n",
       "      <th>175</th>\n",
       "      <td>{Diaper, Beer}</td>\n",
       "      <td>{Butter}</td>\n",
       "      <td>{Butter, Diaper, Beer}</td>\n",
       "    </tr>\n",
       "    <tr>\n",
       "      <th>176</th>\n",
       "      <td>{Milk}</td>\n",
       "      <td>{Beer}</td>\n",
       "      <td>{Milk, Beer}</td>\n",
       "    </tr>\n",
       "    <tr>\n",
       "      <th>177</th>\n",
       "      <td>{Beer}</td>\n",
       "      <td>{Milk}</td>\n",
       "      <td>{Milk, Beer}</td>\n",
       "    </tr>\n",
       "    <tr>\n",
       "      <th>178</th>\n",
       "      <td>{Bread}</td>\n",
       "      <td>{Milk}</td>\n",
       "      <td>{Bread, Milk}</td>\n",
       "    </tr>\n",
       "    <tr>\n",
       "      <th>179</th>\n",
       "      <td>{Milk}</td>\n",
       "      <td>{Bread}</td>\n",
       "      <td>{Bread, Milk}</td>\n",
       "    </tr>\n",
       "  </tbody>\n",
       "</table>\n",
       "<p>180 rows × 3 columns</p>\n",
       "</div>"
      ],
      "text/plain": [
       "          antecedent             consequent                      itemset\n",
       "0           {Butter}    {Bread, Milk, Beer}  {Butter, Bread, Milk, Beer}\n",
       "1            {Bread}   {Butter, Milk, Beer}  {Butter, Bread, Milk, Beer}\n",
       "2             {Milk}  {Butter, Bread, Beer}  {Butter, Bread, Milk, Beer}\n",
       "3             {Beer}  {Butter, Bread, Milk}  {Butter, Bread, Milk, Beer}\n",
       "4    {Butter, Bread}           {Milk, Beer}  {Butter, Bread, Milk, Beer}\n",
       "..               ...                    ...                          ...\n",
       "175   {Diaper, Beer}               {Butter}       {Butter, Diaper, Beer}\n",
       "176           {Milk}                 {Beer}                 {Milk, Beer}\n",
       "177           {Beer}                 {Milk}                 {Milk, Beer}\n",
       "178          {Bread}                 {Milk}                {Bread, Milk}\n",
       "179           {Milk}                {Bread}                {Bread, Milk}\n",
       "\n",
       "[180 rows x 3 columns]"
      ]
     },
     "execution_count": 98,
     "metadata": {},
     "output_type": "execute_result"
    }
   ],
   "source": [
    "rules_df"
   ]
  },
  {
   "cell_type": "code",
   "execution_count": 99,
   "metadata": {},
   "outputs": [],
   "source": [
    "def get_support_value(itemset):\n",
    "    for support_metric in support_list:\n",
    "        if support_metric[0] == itemset:\n",
    "            return support_metric[1]\n",
    "    \n",
    "    return 0"
   ]
  },
  {
   "cell_type": "code",
   "execution_count": 100,
   "metadata": {},
   "outputs": [],
   "source": [
    "rules_df['antecedent_support'] = rules_df['antecedent'].apply(get_support_value)\n",
    "rules_df['consequent_support'] = rules_df['consequent'].apply(get_support_value)\n",
    "rules_df['itemset_support'] = rules_df['itemset'].apply(get_support_value)"
   ]
  },
  {
   "cell_type": "markdown",
   "metadata": {},
   "source": [
    "### Confidence\n",
    "\n",
    "Support(A & B) / Support(A)\n"
   ]
  },
  {
   "cell_type": "code",
   "execution_count": 101,
   "metadata": {},
   "outputs": [],
   "source": [
    "rules_df['Confidence'] = rules_df['itemset_support'] / rules_df['antecedent_support']"
   ]
  },
  {
   "cell_type": "markdown",
   "metadata": {},
   "source": [
    "### Lift\n",
    "\n",
    "(Support(A & B) / Support(A)) / Support(B)\n"
   ]
  },
  {
   "cell_type": "code",
   "execution_count": 102,
   "metadata": {},
   "outputs": [],
   "source": [
    "rules_df['Lift'] = rules_df['Confidence'] / rules_df['consequent_support']"
   ]
  },
  {
   "cell_type": "code",
   "execution_count": 103,
   "metadata": {},
   "outputs": [
    {
     "data": {
      "text/html": [
       "<div>\n",
       "<style scoped>\n",
       "    .dataframe tbody tr th:only-of-type {\n",
       "        vertical-align: middle;\n",
       "    }\n",
       "\n",
       "    .dataframe tbody tr th {\n",
       "        vertical-align: top;\n",
       "    }\n",
       "\n",
       "    .dataframe thead th {\n",
       "        text-align: right;\n",
       "    }\n",
       "</style>\n",
       "<table border=\"1\" class=\"dataframe\">\n",
       "  <thead>\n",
       "    <tr style=\"text-align: right;\">\n",
       "      <th></th>\n",
       "      <th>antecedent</th>\n",
       "      <th>consequent</th>\n",
       "      <th>itemset</th>\n",
       "      <th>antecedent_support</th>\n",
       "      <th>consequent_support</th>\n",
       "      <th>itemset_support</th>\n",
       "      <th>Confidence</th>\n",
       "      <th>Lift</th>\n",
       "    </tr>\n",
       "  </thead>\n",
       "  <tbody>\n",
       "    <tr>\n",
       "      <th>0</th>\n",
       "      <td>{Butter}</td>\n",
       "      <td>{Bread, Milk, Beer}</td>\n",
       "      <td>{Butter, Bread, Milk, Beer}</td>\n",
       "      <td>0.6</td>\n",
       "      <td>0.2</td>\n",
       "      <td>0.0</td>\n",
       "      <td>0.0</td>\n",
       "      <td>0.0</td>\n",
       "    </tr>\n",
       "    <tr>\n",
       "      <th>1</th>\n",
       "      <td>{Bread}</td>\n",
       "      <td>{Butter, Milk, Beer}</td>\n",
       "      <td>{Butter, Bread, Milk, Beer}</td>\n",
       "      <td>0.8</td>\n",
       "      <td>0.0</td>\n",
       "      <td>0.0</td>\n",
       "      <td>0.0</td>\n",
       "      <td>NaN</td>\n",
       "    </tr>\n",
       "    <tr>\n",
       "      <th>2</th>\n",
       "      <td>{Milk}</td>\n",
       "      <td>{Butter, Bread, Beer}</td>\n",
       "      <td>{Butter, Bread, Milk, Beer}</td>\n",
       "      <td>0.8</td>\n",
       "      <td>0.0</td>\n",
       "      <td>0.0</td>\n",
       "      <td>0.0</td>\n",
       "      <td>NaN</td>\n",
       "    </tr>\n",
       "    <tr>\n",
       "      <th>3</th>\n",
       "      <td>{Beer}</td>\n",
       "      <td>{Butter, Bread, Milk}</td>\n",
       "      <td>{Butter, Bread, Milk, Beer}</td>\n",
       "      <td>0.4</td>\n",
       "      <td>0.4</td>\n",
       "      <td>0.0</td>\n",
       "      <td>0.0</td>\n",
       "      <td>0.0</td>\n",
       "    </tr>\n",
       "    <tr>\n",
       "      <th>4</th>\n",
       "      <td>{Butter, Bread}</td>\n",
       "      <td>{Milk, Beer}</td>\n",
       "      <td>{Butter, Bread, Milk, Beer}</td>\n",
       "      <td>0.6</td>\n",
       "      <td>0.4</td>\n",
       "      <td>0.0</td>\n",
       "      <td>0.0</td>\n",
       "      <td>0.0</td>\n",
       "    </tr>\n",
       "  </tbody>\n",
       "</table>\n",
       "</div>"
      ],
      "text/plain": [
       "        antecedent             consequent                      itemset  \\\n",
       "0         {Butter}    {Bread, Milk, Beer}  {Butter, Bread, Milk, Beer}   \n",
       "1          {Bread}   {Butter, Milk, Beer}  {Butter, Bread, Milk, Beer}   \n",
       "2           {Milk}  {Butter, Bread, Beer}  {Butter, Bread, Milk, Beer}   \n",
       "3           {Beer}  {Butter, Bread, Milk}  {Butter, Bread, Milk, Beer}   \n",
       "4  {Butter, Bread}           {Milk, Beer}  {Butter, Bread, Milk, Beer}   \n",
       "\n",
       "   antecedent_support  consequent_support  itemset_support  Confidence  Lift  \n",
       "0                 0.6                 0.2              0.0         0.0   0.0  \n",
       "1                 0.8                 0.0              0.0         0.0   NaN  \n",
       "2                 0.8                 0.0              0.0         0.0   NaN  \n",
       "3                 0.4                 0.4              0.0         0.0   0.0  \n",
       "4                 0.6                 0.4              0.0         0.0   0.0  "
      ]
     },
     "execution_count": 103,
     "metadata": {},
     "output_type": "execute_result"
    }
   ],
   "source": [
    "rules_df.head()"
   ]
  }
 ],
 "metadata": {
  "kernelspec": {
   "display_name": "class",
   "language": "python",
   "name": "python3"
  },
  "language_info": {
   "codemirror_mode": {
    "name": "ipython",
    "version": 3
   },
   "file_extension": ".py",
   "mimetype": "text/x-python",
   "name": "python",
   "nbconvert_exporter": "python",
   "pygments_lexer": "ipython3",
   "version": "3.12.6"
  }
 },
 "nbformat": 4,
 "nbformat_minor": 2
}
