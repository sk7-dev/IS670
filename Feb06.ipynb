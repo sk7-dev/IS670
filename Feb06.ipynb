{
 "cells": [
  {
   "cell_type": "code",
   "execution_count": 41,
   "metadata": {},
   "outputs": [],
   "source": [
    "import pandas as pd\n",
    "from itertools import combinations"
   ]
  },
  {
   "cell_type": "code",
   "execution_count": 42,
   "metadata": {},
   "outputs": [],
   "source": [
    "data = {\n",
    "\n",
    "    'TransactionID': [1, 2, 3, 4, 5]\n",
    "\n",
    "    ,'ItemsPurchased': ['Bread,Butter,Milk','Bread,Diaper,Beer,Milk','Milk,Diaper,Beer','Bread,Butter','Bread,Butter,Diaper,Milk']\n",
    "\n",
    "}"
   ]
  },
  {
   "cell_type": "code",
   "execution_count": 43,
   "metadata": {},
   "outputs": [],
   "source": [
    "df = pd.DataFrame(data)"
   ]
  },
  {
   "cell_type": "code",
   "execution_count": 44,
   "metadata": {},
   "outputs": [
    {
     "data": {
      "text/html": [
       "<div>\n",
       "<style scoped>\n",
       "    .dataframe tbody tr th:only-of-type {\n",
       "        vertical-align: middle;\n",
       "    }\n",
       "\n",
       "    .dataframe tbody tr th {\n",
       "        vertical-align: top;\n",
       "    }\n",
       "\n",
       "    .dataframe thead th {\n",
       "        text-align: right;\n",
       "    }\n",
       "</style>\n",
       "<table border=\"1\" class=\"dataframe\">\n",
       "  <thead>\n",
       "    <tr style=\"text-align: right;\">\n",
       "      <th></th>\n",
       "      <th>TransactionID</th>\n",
       "      <th>ItemsPurchased</th>\n",
       "    </tr>\n",
       "  </thead>\n",
       "  <tbody>\n",
       "    <tr>\n",
       "      <th>0</th>\n",
       "      <td>1</td>\n",
       "      <td>Bread,Butter,Milk</td>\n",
       "    </tr>\n",
       "    <tr>\n",
       "      <th>1</th>\n",
       "      <td>2</td>\n",
       "      <td>Bread,Diaper,Beer,Milk</td>\n",
       "    </tr>\n",
       "    <tr>\n",
       "      <th>2</th>\n",
       "      <td>3</td>\n",
       "      <td>Milk,Diaper,Beer</td>\n",
       "    </tr>\n",
       "    <tr>\n",
       "      <th>3</th>\n",
       "      <td>4</td>\n",
       "      <td>Bread,Butter</td>\n",
       "    </tr>\n",
       "    <tr>\n",
       "      <th>4</th>\n",
       "      <td>5</td>\n",
       "      <td>Bread,Butter,Diaper,Milk</td>\n",
       "    </tr>\n",
       "  </tbody>\n",
       "</table>\n",
       "</div>"
      ],
      "text/plain": [
       "   TransactionID            ItemsPurchased\n",
       "0              1         Bread,Butter,Milk\n",
       "1              2    Bread,Diaper,Beer,Milk\n",
       "2              3          Milk,Diaper,Beer\n",
       "3              4              Bread,Butter\n",
       "4              5  Bread,Butter,Diaper,Milk"
      ]
     },
     "execution_count": 44,
     "metadata": {},
     "output_type": "execute_result"
    }
   ],
   "source": [
    "df.head()"
   ]
  },
  {
   "cell_type": "code",
   "execution_count": 45,
   "metadata": {},
   "outputs": [],
   "source": [
    "all_words_rows = df['ItemsPurchased'].tolist()"
   ]
  },
  {
   "cell_type": "code",
   "execution_count": 46,
   "metadata": {},
   "outputs": [],
   "source": [
    "all_word = set()\n",
    "for transaction in all_words_rows:\n",
    "    all_word.update(transaction.split(','))"
   ]
  },
  {
   "cell_type": "code",
   "execution_count": 47,
   "metadata": {},
   "outputs": [],
   "source": [
    "df['ItemsPurchased'] = df['ItemsPurchased'].apply(lambda x : x.split(','))"
   ]
  },
  {
   "cell_type": "code",
   "execution_count": 48,
   "metadata": {},
   "outputs": [
    {
     "name": "stdout",
     "output_type": "stream",
     "text": [
      "[['Bread', 'Butter', 'Milk'], ['Bread', 'Diaper', 'Beer', 'Milk'], ['Milk', 'Diaper', 'Beer'], ['Bread', 'Butter'], ['Bread', 'Butter', 'Diaper', 'Milk']]\n"
     ]
    }
   ],
   "source": [
    "all_words_rows = df['ItemsPurchased'].tolist()\n",
    "print(all_words_rows)"
   ]
  },
  {
   "cell_type": "code",
   "execution_count": 49,
   "metadata": {},
   "outputs": [],
   "source": [
    "all_words = set()\n"
   ]
  },
  {
   "cell_type": "code",
   "execution_count": 51,
   "metadata": {},
   "outputs": [],
   "source": [
    "for i in all_words_rows:\n",
    "    for word in i:\n",
    "        all_words.add(word)\n",
    "\n"
   ]
  },
  {
   "cell_type": "code",
   "execution_count": 52,
   "metadata": {},
   "outputs": [
    {
     "data": {
      "text/plain": [
       "{'Beer', 'Bread', 'Butter', 'Diaper', 'Milk'}"
      ]
     },
     "execution_count": 52,
     "metadata": {},
     "output_type": "execute_result"
    }
   ],
   "source": [
    "all_words"
   ]
  },
  {
   "cell_type": "code",
   "execution_count": 53,
   "metadata": {},
   "outputs": [],
   "source": [
    "def generate_itemsets(all_words):\n",
    "\n",
    "    all_itemsets = set()\n",
    "    for x in  range(1, len(all_words)+1):\n",
    "        all_itemsets.update(combinations(all_words, x))\n",
    "    return(all_itemsets)"
   ]
  },
  {
   "cell_type": "code",
   "execution_count": 54,
   "metadata": {},
   "outputs": [
    {
     "data": {
      "text/plain": [
       "{('Beer',),\n",
       " ('Bread',),\n",
       " ('Bread', 'Beer'),\n",
       " ('Bread', 'Milk'),\n",
       " ('Bread', 'Milk', 'Beer'),\n",
       " ('Butter',),\n",
       " ('Butter', 'Beer'),\n",
       " ('Butter', 'Bread'),\n",
       " ('Butter', 'Bread', 'Beer'),\n",
       " ('Butter', 'Bread', 'Milk'),\n",
       " ('Butter', 'Bread', 'Milk', 'Beer'),\n",
       " ('Butter', 'Diaper'),\n",
       " ('Butter', 'Diaper', 'Beer'),\n",
       " ('Butter', 'Diaper', 'Bread'),\n",
       " ('Butter', 'Diaper', 'Bread', 'Beer'),\n",
       " ('Butter', 'Diaper', 'Bread', 'Milk'),\n",
       " ('Butter', 'Diaper', 'Bread', 'Milk', 'Beer'),\n",
       " ('Butter', 'Diaper', 'Milk'),\n",
       " ('Butter', 'Diaper', 'Milk', 'Beer'),\n",
       " ('Butter', 'Milk'),\n",
       " ('Butter', 'Milk', 'Beer'),\n",
       " ('Diaper',),\n",
       " ('Diaper', 'Beer'),\n",
       " ('Diaper', 'Bread'),\n",
       " ('Diaper', 'Bread', 'Beer'),\n",
       " ('Diaper', 'Bread', 'Milk'),\n",
       " ('Diaper', 'Bread', 'Milk', 'Beer'),\n",
       " ('Diaper', 'Milk'),\n",
       " ('Diaper', 'Milk', 'Beer'),\n",
       " ('Milk',),\n",
       " ('Milk', 'Beer')}"
      ]
     },
     "execution_count": 54,
     "metadata": {},
     "output_type": "execute_result"
    }
   ],
   "source": [
    "generate_itemsets(all_words)"
   ]
  }
 ],
 "metadata": {
  "kernelspec": {
   "display_name": "class",
   "language": "python",
   "name": "python3"
  },
  "language_info": {
   "codemirror_mode": {
    "name": "ipython",
    "version": 3
   },
   "file_extension": ".py",
   "mimetype": "text/x-python",
   "name": "python",
   "nbconvert_exporter": "python",
   "pygments_lexer": "ipython3",
   "version": "3.12.6"
  }
 },
 "nbformat": 4,
 "nbformat_minor": 2
}
